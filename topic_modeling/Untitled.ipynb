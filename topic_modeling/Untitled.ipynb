{
 "cells": [
  {
   "cell_type": "code",
   "execution_count": 1,
   "metadata": {},
   "outputs": [
    {
     "name": "stdout",
     "output_type": "stream",
     "text": [
      "reading tweets\n",
      "read in 24783 tweets\n",
      "filtering stop/less-frequent words and too short tweets\n",
      "mining topics using sparse-LDA model with Gibbs sampling\n",
      "iter =  0\n",
      "iter =  1\n",
      "done!\n",
      "-1151198.1100130668\n",
      "Topwords:\n",
      "topic-0: bitch rt bitches like hoes pussy ass i'm hoe get\n",
      "topic-1: bitch rt bitches like hoes pussy ass hoe u i'm\n",
      "topic-2: rt bitch bitches like hoes hoe pussy i'm fuck ass\n",
      "topic-3: bitch rt bitches like hoes hoe pussy i'm ass get\n",
      "topic-4: bitch rt like bitches pussy hoes i'm hoe u ass\n"
     ]
    }
   ],
   "source": [
    "import tweet_topic_model\n",
    "import numpy as np\n",
    "\n",
    "dataset_name = 'dt'\n",
    "dataset_path = '../data/davidson_icwsm17/labeled_data.csv'\n",
    "\n",
    "# dataset_name = 'founta'\n",
    "# dataset_path = '../data/founta_icwsm18/hatespeech_text_label_vote_RESTRICTED.csv'\n",
    "\n",
    "num_topics = 5\n",
    "\n",
    "tweets, vocabs, topics, likelihood = tweet_topic_model.get_tweet_topics(dataset_name, dataset_path, num_topics,\n",
    "                                                                        min_num_words=3,\n",
    "                                                                        min_tweet_frequency=5)\n",
    "print(likelihood)\n",
    "#print(vocabs)\n",
    "print('Topwords:')\n",
    "for z in range(num_topics):\n",
    "    ids = list(np.argsort(topics[z])[-10:])\n",
    "    ids.reverse()\n",
    "    top_words = [vocabs[i] for i in ids]\n",
    "    print('topic-%d: %s' %(z, ' '.join(top_words)))\n",
    "    "
   ]
  },
  {
   "cell_type": "code",
   "execution_count": 3,
   "metadata": {},
   "outputs": [
    {
     "name": "stdout",
     "output_type": "stream",
     "text": [
      "Topwords:\n",
      "topic-0: bitch rt bitches like hoes pussy ass i'm hoe get fuck shit nigga trash got u lol know ain't one niggas yo go love can't fucking ya hate make man white say im want never see still bad real back good let dick faggot talk n really y'all said that's\n",
      "topic-1: bitch rt bitches like hoes pussy ass hoe u i'm fuck get got nigga shit lol trash ain't niggas know one love go want im good think that's fucking yo man bad still can't real really see time look even said right ya back bout lmao girl make need da\n",
      "topic-2: rt bitch bitches like hoes hoe pussy i'm fuck ass got get shit u trash lol nigga ain't niggas know fucking love bad can't one yo go good really think man that's im say ya make need want hate back look see would let still cause y'all girl gotta faggot\n",
      "topic-3: bitch rt bitches like hoes hoe pussy i'm ass get got nigga fuck shit lol u ain't trash know niggas one want yo love go look fucking good bad need can't man say that's people girl wit never hate would think see ya right y'all make still damn back time\n",
      "topic-4: bitch rt like bitches pussy hoes i'm hoe u ass get fuck shit got nigga lol trash ain't one niggas love go know fucking yo want bad time people good make man never say back still hate can't y'all bird even ya see that's girl look im real faggot think\n"
     ]
    }
   ],
   "source": [
    "import numpy as np\n",
    "print('Topwords:')\n",
    "for z in range(num_topics):\n",
    "    ids = list(np.argsort(topics[z])[-50:])\n",
    "    ids.reverse()\n",
    "    top_words = [vocabs[i] for i in ids]\n",
    "    print('topic-%d: %s' %(z, ' '.join(top_words)))"
   ]
  },
  {
   "cell_type": "code",
   "execution_count": null,
   "metadata": {},
   "outputs": [],
   "source": [
    "for z in range(num_topics):\n",
    "    ids = list(np.argsort(topics[z])[-10:])\n",
    "    ids.reverse()\n",
    "    top_words = [vocabs[i] for i in ids]\n",
    "    probs = [topics[z,i] for i in ids]\n",
    "    print('topic-%d: %s' %(z, ' '.join(top_words)))\n",
    "    print('topic-%d: %s' %(z, probs))"
   ]
  },
  {
   "cell_type": "code",
   "execution_count": null,
   "metadata": {},
   "outputs": [],
   "source": [
    "tweets"
   ]
  },
  {
   "cell_type": "code",
   "execution_count": null,
   "metadata": {},
   "outputs": [],
   "source": []
  }
 ],
 "metadata": {
  "kernelspec": {
   "display_name": "Python 3",
   "language": "python",
   "name": "python3"
  },
  "language_info": {
   "codemirror_mode": {
    "name": "ipython",
    "version": 3
   },
   "file_extension": ".py",
   "mimetype": "text/x-python",
   "name": "python",
   "nbconvert_exporter": "python",
   "pygments_lexer": "ipython3",
   "version": "3.7.4"
  }
 },
 "nbformat": 4,
 "nbformat_minor": 2
}
